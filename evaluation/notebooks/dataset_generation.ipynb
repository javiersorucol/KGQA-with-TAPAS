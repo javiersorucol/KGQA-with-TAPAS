{
 "cells": [
  {
   "cell_type": "markdown",
   "id": "f9aef3aa-10fe-4fb3-abcf-2d9ba997ab6c",
   "metadata": {},
   "source": [
    "# Evaluation dataset generation\n",
    "In this notebook we will select 20 random questions for each question type  in the [mintaka dataset](https://github.com/amazon-science/mintaka)."
   ]
  },
  {
   "cell_type": "markdown",
   "id": "1a5fd6cd-fb82-4a94-a600-701de6807000",
   "metadata": {},
   "source": [
    "Let's start by loading the dataset"
   ]
  },
  {
   "cell_type": "code",
   "execution_count": 2,
   "id": "10bf821e-cb5b-4ab0-8283-f4b523e9f7b5",
   "metadata": {
    "tags": []
   },
   "outputs": [],
   "source": [
    "# imports\n",
    "import sys\n",
    "import os\n",
    "  \n",
    "current = os.path.dirname(os.path.abspath(''))\n",
    "parent_directory = os.path.dirname(current)\n",
    "\n",
    "sys.path.append(parent_directory)\n",
    "\n",
    "from utils.Json_utils import read_json, save_json"
   ]
  },
  {
   "cell_type": "code",
   "execution_count": 5,
   "id": "7dc6e432-9324-4279-8d63-6cf8b08c9742",
   "metadata": {
    "tags": []
   },
   "outputs": [
    {
     "data": {
      "text/plain": [
       "18000"
      ]
     },
     "execution_count": 5,
     "metadata": {},
     "output_type": "execute_result"
    }
   ],
   "source": [
    "mintaka = read_json('../reference_datasets/Mintaka/mintaka_train.json') + read_json('../reference_datasets/Mintaka/mintaka_test.json')\n",
    "len(mintaka)"
   ]
  },
  {
   "cell_type": "markdown",
   "id": "db0b0035-2b61-42ae-9077-1c85e167e2ab",
   "metadata": {},
   "source": [
    "Let's check the structure for each question"
   ]
  },
  {
   "cell_type": "code",
   "execution_count": 6,
   "id": "d3930d3a-14e3-488b-a79e-9234e468545d",
   "metadata": {
    "tags": []
   },
   "outputs": [
    {
     "data": {
      "text/plain": [
       "dict_keys(['id', 'question', 'translations', 'questionEntity', 'answer', 'category', 'complexityType'])"
      ]
     },
     "execution_count": 6,
     "metadata": {},
     "output_type": "execute_result"
    }
   ],
   "source": [
    "mintaka[0].keys()"
   ]
  },
  {
   "cell_type": "markdown",
   "id": "46182989-2c32-45e7-bf29-53fd00a58eb7",
   "metadata": {
    "tags": []
   },
   "source": [
    "We will sort this list by complexity type"
   ]
  },
  {
   "cell_type": "code",
   "execution_count": 9,
   "id": "8412d76e-b4d1-45bd-b36e-8e590f447377",
   "metadata": {
    "tags": []
   },
   "outputs": [],
   "source": [
    "mintaka_sorted = {}\n",
    "for question in mintaka:\n",
    "    if mintaka_sorted.get(question.get('complexityType')) is None:\n",
    "        mintaka_sorted[question.get('complexityType')] = []\n",
    "    mintaka_sorted[question.get('complexityType')].append(question)"
   ]
  },
  {
   "cell_type": "code",
   "execution_count": 10,
   "id": "7911ab40-c9b3-4ee5-bf03-4a4b0a7cdf78",
   "metadata": {
    "tags": []
   },
   "outputs": [
    {
     "data": {
      "text/plain": [
       "dict_keys(['ordinal', 'intersection', 'generic', 'superlative', 'yesno', 'comparative', 'multihop', 'difference', 'count'])"
      ]
     },
     "execution_count": 10,
     "metadata": {},
     "output_type": "execute_result"
    }
   ],
   "source": [
    "mintaka_sorted.keys()"
   ]
  },
  {
   "cell_type": "markdown",
   "id": "8d014319-7e64-4985-acb9-fe1f089d0adf",
   "metadata": {},
   "source": [
    "Now we will generate our evaluation dataset by grabing n random questions from each complexity type."
   ]
  },
  {
   "cell_type": "code",
   "execution_count": 13,
   "id": "35b39ad6-981f-4f9c-a927-ad81d27c71fa",
   "metadata": {
    "tags": []
   },
   "outputs": [
    {
     "data": {
      "text/plain": [
       "dict_keys(['ordinal', 'intersection', 'generic', 'superlative', 'yesno', 'comparative', 'multihop', 'difference', 'count'])"
      ]
     },
     "execution_count": 13,
     "metadata": {},
     "output_type": "execute_result"
    }
   ],
   "source": [
    "import random\n",
    "\n",
    "evaluation_dataset = {}\n",
    "n = 20\n",
    "\n",
    "for complexity_type, question_list in mintaka_sorted.items():\n",
    "    evaluation_dataset[complexity_type] = random.sample(question_list, n)\n",
    "    \n",
    "evaluation_dataset.keys()"
   ]
  },
  {
   "cell_type": "markdown",
   "id": "1ff609bf-dea5-44fc-abb2-9d091af2ba3f",
   "metadata": {},
   "source": [
    "Let's save the dataset"
   ]
  },
  {
   "cell_type": "code",
   "execution_count": 15,
   "id": "89e2cf93-76a0-4cf7-bfc5-b31320531d51",
   "metadata": {
    "tags": []
   },
   "outputs": [],
   "source": [
    "save_json('../evaluation_datasets/evaluation_dataset.json', evaluation_dataset)"
   ]
  },
  {
   "cell_type": "code",
   "execution_count": null,
   "id": "338c3dea-ee7a-44e3-9507-5a402571e5de",
   "metadata": {},
   "outputs": [],
   "source": []
  }
 ],
 "metadata": {
  "kernelspec": {
   "display_name": "Python 3 (ipykernel)",
   "language": "python",
   "name": "python3"
  },
  "language_info": {
   "codemirror_mode": {
    "name": "ipython",
    "version": 3
   },
   "file_extension": ".py",
   "mimetype": "text/x-python",
   "name": "python",
   "nbconvert_exporter": "python",
   "pygments_lexer": "ipython3",
   "version": "3.11.5"
  }
 },
 "nbformat": 4,
 "nbformat_minor": 5
}
