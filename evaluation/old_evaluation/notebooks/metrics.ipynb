{
 "cells": [
  {
   "cell_type": "code",
   "execution_count": 16,
   "id": "9f998763-e77c-489b-8418-00589a1d9d98",
   "metadata": {},
   "outputs": [],
   "source": [
    "def get_precision(TP, FP):\n",
    "    return TP/(TP + FP)\n",
    "\n",
    "def get_recall(TP, FN):\n",
    "    return TP/(TP + FN)\n",
    "\n",
    "def get_f1(TP, FP, FN):\n",
    "    return TP/(TP + 0.5*(FP + FN))"
   ]
  },
  {
   "cell_type": "code",
   "execution_count": 17,
   "id": "7f0c17b8-c70b-4909-8af4-d4a6165bbeaf",
   "metadata": {},
   "outputs": [],
   "source": [
    "TP = 75 + 156\n",
    "FP = 46 + 24\n",
    "FN = 406 + 6058"
   ]
  },
  {
   "cell_type": "code",
   "execution_count": 18,
   "id": "c911ada0-45e9-4b3b-b4e6-872f961b0fe7",
   "metadata": {},
   "outputs": [
    {
     "data": {
      "text/plain": [
       "0.7674418604651163"
      ]
     },
     "execution_count": 18,
     "metadata": {},
     "output_type": "execute_result"
    }
   ],
   "source": [
    "get_precision(TP, FP)"
   ]
  },
  {
   "cell_type": "code",
   "execution_count": 19,
   "id": "3776eeb3-8e0b-4c6c-830d-04f26b9b7dea",
   "metadata": {},
   "outputs": [
    {
     "data": {
      "text/plain": [
       "0.03450336071695295"
      ]
     },
     "execution_count": 19,
     "metadata": {},
     "output_type": "execute_result"
    }
   ],
   "source": [
    "get_recall(TP, FN)"
   ]
  },
  {
   "cell_type": "code",
   "execution_count": 20,
   "id": "650d7526-7743-48a4-8ca0-8f1a9bd546fb",
   "metadata": {},
   "outputs": [
    {
     "data": {
      "text/plain": [
       "0.0660377358490566"
      ]
     },
     "execution_count": 20,
     "metadata": {},
     "output_type": "execute_result"
    }
   ],
   "source": [
    "get_f1(TP, FP, FN)"
   ]
  },
  {
   "cell_type": "code",
   "execution_count": null,
   "id": "598e98b9-b255-4a84-a4d3-f38aa786026d",
   "metadata": {},
   "outputs": [],
   "source": []
  }
 ],
 "metadata": {
  "kernelspec": {
   "display_name": "Python 3",
   "language": "python",
   "name": "python3"
  },
  "language_info": {
   "codemirror_mode": {
    "name": "ipython",
    "version": 3
   },
   "file_extension": ".py",
   "mimetype": "text/x-python",
   "name": "python",
   "nbconvert_exporter": "python",
   "pygments_lexer": "ipython3",
   "version": "3.8.8"
  }
 },
 "nbformat": 4,
 "nbformat_minor": 5
}
